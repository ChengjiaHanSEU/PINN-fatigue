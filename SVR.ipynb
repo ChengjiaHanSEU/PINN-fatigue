{
 "cells": [
  {
   "cell_type": "code",
   "execution_count": null,
   "id": "96664a4d",
   "metadata": {},
   "outputs": [],
   "source": [
    "import numpy as np\n",
    "import pandas as pd\n",
    "import matplotlib.pyplot as plt\n",
    "from sklearn.linear_model import BayesianRidge, LinearRegression, ElasticNet  # 批量导入要实现的回归算法\n",
    "from sklearn.svm import SVR  # SVM中的回归算法\n",
    "from sklearn.model_selection import cross_val_score  # 交叉检验\n",
    "from sklearn.metrics import explained_variance_score, mean_absolute_error, mean_squared_error, r2_score  # 批量导入指标算法"
   ]
  },
  {
   "cell_type": "code",
   "execution_count": null,
   "id": "cd2e9335",
   "metadata": {},
   "outputs": [],
   "source": [
    "################数据导入###################\n",
    "degree5_200_5 = pd.read_csv(r\"D:\\AI in NTU\\PINN-fatigue\\论文数据汇总\\5hzC-S数据\\5-200-5.csv\").iloc[1:,1:]\n",
    "degree5_300_5 = pd.read_csv(r\"D:\\AI in NTU\\PINN-fatigue\\论文数据汇总\\5hzC-S数据\\5-300-5.csv\").iloc[1:,1:]\n",
    "degree5_400_5 = pd.read_csv(r\"D:\\AI in NTU\\PINN-fatigue\\论文数据汇总\\5hzC-S数据\\5-400-5.csv\").iloc[1:,1:]\n",
    "degree15_200_5 = pd.read_csv(r\"D:\\AI in NTU\\PINN-fatigue\\论文数据汇总\\5hzC-S数据\\15-200-5.csv\").iloc[1:,1:]\n",
    "degree15_300_5 = pd.read_csv(r\"D:\\AI in NTU\\PINN-fatigue\\论文数据汇总\\5hzC-S数据\\15-300-5.csv\").iloc[1:,1:]\n",
    "degree15_400_5 = pd.read_csv(r\"D:\\AI in NTU\\PINN-fatigue\\论文数据汇总\\5hzC-S数据\\15-400-5.csv\").iloc[1:,1:]\n",
    "degree25_200_5 = pd.read_csv(r\"D:\\AI in NTU\\PINN-fatigue\\论文数据汇总\\5hzC-S数据\\25-200-5.csv\").iloc[1:,1:]\n",
    "degree25_300_5 = pd.read_csv(r\"D:\\AI in NTU\\PINN-fatigue\\论文数据汇总\\5hzC-S数据\\25-300-5.csv\").iloc[1:,1:]\n",
    "degree25_400_5 = pd.read_csv(r\"D:\\AI in NTU\\PINN-fatigue\\论文数据汇总\\5hzC-S数据\\25-400-5.csv\").iloc[1:,1:] ###测试\n",
    "\n",
    "step_max = int(np.array([degree5_200_5.max(),degree5_300_5.max(),degree5_400_5.max(),\n",
    "            degree15_200_5.max(),degree15_300_5.max(),degree15_400_5.max(),\n",
    "            degree25_200_5.max(),degree25_300_5.max(),degree25_400_5.max(),]).max())+500\n",
    "####建立训练集\n",
    "###lenght=15, 预测1个,随即时间间隔+物理约束\n",
    "####5,15,25三类，200，300，400三类\n",
    "X_data = [] \n",
    "Y_data = []\n",
    "\n",
    "########5度###############\n",
    "for i in range (len(degree5_200_5)-15):\n",
    "    X_data.append(np.transpose(np.array(degree5_200_5.iloc[i:i+15,0])))\n",
    "    Y_data.append(degree5_200_5.iloc[i+15,0])\n",
    "\n",
    "for i in range (len(degree5_300_5)-15):\n",
    "    X_data.append(np.transpose(np.array(degree5_300_5.iloc[i:i+15,0])))\n",
    "    Y_data.append(degree5_300_5.iloc[i+15,0])\n",
    "\n",
    "for i in range (len(degree5_400_5)-15):\n",
    "    X_data.append(np.transpose(np.array(degree5_400_5.iloc[i:i+15,0])))\n",
    "    Y_data.append(degree5_400_5.iloc[i+15,0])\n",
    "\n",
    "########15度###############\n",
    "for i in range (len(degree15_200_5)-15):\n",
    "    X_data.append(np.transpose(np.array(degree15_200_5.iloc[i:i+15,0])))\n",
    "    Y_data.append(degree15_200_5.iloc[i+15,0])\n",
    "\n",
    "for i in range (len(degree15_300_5)-15):\n",
    "    X_data.append(np.transpose(np.array(degree15_300_5.iloc[i:i+15,0])))\n",
    "    Y_data.append(degree15_300_5.iloc[i+15,0])\n",
    "\n",
    "for i in range (len(degree15_400_5)-15):\n",
    "    X_data.append(np.transpose(np.array(degree15_400_5.iloc[i:i+15,0])))\n",
    "    Y_data.append(degree15_400_5.iloc[i+15,0])\n",
    "\n",
    "########25度###############\n",
    "for i in range (len(degree25_200_5)-15):\n",
    "    X_data.append(np.transpose(np.array(degree25_200_5.iloc[i:i+15,0])))\n",
    "    Y_data.append(degree25_200_5.iloc[i+15,0])\n",
    "\n",
    "for i in range (len(degree25_300_5)-15):\n",
    "    X_data.append(np.transpose(np.array(degree25_300_5.iloc[i:i+15,0])))\n",
    "    Y_data.append(degree25_300_5.iloc[i+15,0])\n",
    "\n",
    "X_data = np.array(X_data)\n",
    "Y_data = np.array(Y_data)"
   ]
  },
  {
   "cell_type": "code",
   "execution_count": null,
   "id": "de2a5f5a",
   "metadata": {},
   "outputs": [],
   "source": [
    "model_svr = SVR()#SVM 回归模型\n",
    "model_svr.fit(X_data,Y_data)"
   ]
  },
  {
   "cell_type": "code",
   "execution_count": null,
   "id": "d8d2e73b",
   "metadata": {},
   "outputs": [],
   "source": [
    "X_data_test = [] \n",
    "Y_data_test = []\n",
    "for i in range (len(degree25_400_5)-15):\n",
    "    X_data_test.append(np.transpose(np.array(degree25_400_5.iloc[i:i+15,0])))\n",
    "    Y_data_test.append(degree25_400_5.iloc[i+15,0])\n",
    "\n",
    "X_data_test = np.array(X_data_test) \n",
    "Y_data_test = np.array(Y_data_test)\n",
    "\n",
    "predicted_results=model_svr.predict(X_data_test)\n",
    "    \n",
    "plt.scatter(np.squeeze(Y_data_test),np.squeeze(predicted_results))\n",
    "plt.xlim((0, 1))\n",
    "plt.ylim((0, 1))\n",
    "plt.grid() \n",
    "plt.show()"
   ]
  },
  {
   "cell_type": "code",
   "execution_count": null,
   "id": "0cb6a104",
   "metadata": {},
   "outputs": [],
   "source": [
    "#####绘制曲线######\n",
    "initial_data_x = np.zeros(len(degree25_400_5))\n",
    "initial_data_x[0:20] = degree25_400_5.iloc[0:20,0]\n",
    "initial_data_inc = degree25_400_5.iloc[:,1]/step_max\n",
    "for i in range(20,len(initial_data_inc)):\n",
    "    X_data_test = np.transpose(np.array(degree25_400_5.iloc[i-15:i,0]))[np.newaxis,...]\n",
    "    initial_data_x[i] = model_svr.predict(X_data_test)"
   ]
  },
  {
   "cell_type": "code",
   "execution_count": null,
   "id": "9f97d7ff",
   "metadata": {},
   "outputs": [],
   "source": [
    "plt.plot(initial_data_inc*step_max,initial_data_x)\n",
    "plt.plot(initial_data_inc*step_max,degree25_400_5.iloc[:,0])\n",
    "plt.show()\n",
    "Ontest_set = np.concatenate((np.array(degree25_400_5.iloc[:,1])[...,np.newaxis],\n",
    "                             np.array(initial_data_x)[...,np.newaxis],\n",
    "                             np.array(degree25_400_5.iloc[:,0])[...,np.newaxis]),-1)\n",
    "Ontest_set = pd.DataFrame(Ontest_set)\n",
    "Ontest_set.to_excel(\"D:/AI in NTU/PINN-fatigue/实验结果汇总/SVR.xlsx\")"
   ]
  },
  {
   "cell_type": "code",
   "execution_count": null,
   "id": "0e33352a",
   "metadata": {},
   "outputs": [],
   "source": []
  }
 ],
 "metadata": {
  "kernelspec": {
   "display_name": "Python 3 (ipykernel)",
   "language": "python",
   "name": "python3"
  },
  "language_info": {
   "codemirror_mode": {
    "name": "ipython",
    "version": 3
   },
   "file_extension": ".py",
   "mimetype": "text/x-python",
   "name": "python",
   "nbconvert_exporter": "python",
   "pygments_lexer": "ipython3",
   "version": "3.7.16"
  }
 },
 "nbformat": 4,
 "nbformat_minor": 5
}
