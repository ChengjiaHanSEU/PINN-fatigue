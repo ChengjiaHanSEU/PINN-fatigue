{
 "cells": [
  {
   "cell_type": "code",
   "execution_count": null,
   "id": "1fc30302",
   "metadata": {},
   "outputs": [],
   "source": [
    "import numpy as np\n",
    "import pandas as pd\n",
    "from statsmodels.tsa.arima.model import ARIMA\n",
    "import pmdarima as pm\n",
    "from sklearn.metrics import mean_squared_error\n",
    "import matplotlib.pyplot as plt\n",
    "import warnings\n",
    "warnings.filterwarnings('ignore')"
   ]
  },
  {
   "cell_type": "code",
   "execution_count": null,
   "id": "e32370db",
   "metadata": {},
   "outputs": [],
   "source": [
    "################数据导入###################\n",
    "degree5_200_5 = pd.read_csv(r\"D:\\AI in NTU\\PINN-fatigue\\论文数据汇总\\5hzC-S数据\\5-200-5.csv\").iloc[:,1:]\n",
    "degree5_300_5 = pd.read_csv(r\"D:\\AI in NTU\\PINN-fatigue\\论文数据汇总\\5hzC-S数据\\5-300-5.csv\").iloc[:,1:]\n",
    "degree5_400_5 = pd.read_csv(r\"D:\\AI in NTU\\PINN-fatigue\\论文数据汇总\\5hzC-S数据\\5-400-5.csv\").iloc[:,1:]\n",
    "degree15_200_5 = pd.read_csv(r\"D:\\AI in NTU\\PINN-fatigue\\论文数据汇总\\5hzC-S数据\\15-200-5.csv\").iloc[:,1:]\n",
    "degree15_300_5 = pd.read_csv(r\"D:\\AI in NTU\\PINN-fatigue\\论文数据汇总\\5hzC-S数据\\15-300-5.csv\").iloc[:,1:]\n",
    "degree15_400_5 = pd.read_csv(r\"D:\\AI in NTU\\PINN-fatigue\\论文数据汇总\\5hzC-S数据\\15-400-5.csv\").iloc[:,1:]\n",
    "degree25_200_5 = pd.read_csv(r\"D:\\AI in NTU\\PINN-fatigue\\论文数据汇总\\5hzC-S数据\\25-200-5.csv\").iloc[:,1:]\n",
    "degree25_300_5 = pd.read_csv(r\"D:\\AI in NTU\\PINN-fatigue\\论文数据汇总\\5hzC-S数据\\25-300-5.csv\").iloc[:,1:]\n",
    "degree25_400_5 = pd.read_csv(r\"D:\\AI in NTU\\PINN-fatigue\\论文数据汇总\\5hzC-S数据\\25-400-5.csv\").iloc[:,1:] ###测试\n",
    "\n",
    "X_data = np.concatenate((np.array(degree5_200_5.iloc[:,0]),\n",
    "                         np.array(degree5_300_5.iloc[:,0]),\n",
    "                         np.array(degree5_400_5.iloc[:,0]),\n",
    "                         np.array(degree15_200_5.iloc[:,0]),\n",
    "                         np.array(degree15_300_5.iloc[:,0]),\n",
    "                         np.array(degree15_400_5.iloc[:,0]),\n",
    "                         np.array(degree25_200_5.iloc[:,0]),\n",
    "                         np.array(degree25_300_5.iloc[:,0]),\n",
    "                         np.array(degree25_400_5.iloc[:20,0])),0) \n",
    "                                                     \n",
    "Y_data =  np.array(degree25_400_5.iloc[20:,0])"
   ]
  },
  {
   "cell_type": "code",
   "execution_count": null,
   "id": "0cde5a89",
   "metadata": {
    "scrolled": true
   },
   "outputs": [],
   "source": [
    "model = pm.auto_arima(X_data,start_p=1,start_q=1,\n",
    "                      test='adf',max_p=5,max_q=5,\n",
    "                      m=4,d=None,seasonal=True,\n",
    "                      D=0,trace=True,error_action='ignore',\n",
    "                      suppress_warnings=True,stepwise=True)\n",
    "print(model.summary())"
   ]
  },
  {
   "cell_type": "code",
   "execution_count": null,
   "id": "8e7eec26",
   "metadata": {},
   "outputs": [],
   "source": [
    "arima_model = ARIMA(X_data,order=(1,0,0))\n",
    "model_fit = arima_model.fit()\n",
    "y_pred = model_fit.forecast(len(Y_data))\n",
    "Predicted_Y = np.concatenate((np.array(degree25_400_5.iloc[:20,0]),y_pred),0)\n",
    "Real_Y = np.array(degree25_400_5.iloc[:,0])"
   ]
  },
  {
   "cell_type": "code",
   "execution_count": null,
   "id": "d6520253",
   "metadata": {},
   "outputs": [],
   "source": [
    "plt.plot(degree25_400_5.iloc[:,1],Predicted_Y)\n",
    "plt.plot(degree25_400_5.iloc[:,1],Real_Y)\n",
    "plt.show()\n",
    "Ontest_set = np.concatenate((np.array(degree25_400_5.iloc[:,1])[...,np.newaxis],\n",
    "                             np.array(Real_Y)[...,np.newaxis],\n",
    "                             np.array(Predicted_Y)[...,np.newaxis]),-1)\n",
    "Ontest_set = pd.DataFrame(Ontest_set)\n",
    "Ontest_set.to_excel(\"D:/AI in NTU/PINN-fatigue/实验结果汇总/ARIMA.xlsx\")"
   ]
  },
  {
   "cell_type": "code",
   "execution_count": null,
   "id": "226c335f",
   "metadata": {},
   "outputs": [],
   "source": []
  }
 ],
 "metadata": {
  "kernelspec": {
   "display_name": "Python 3 (ipykernel)",
   "language": "python",
   "name": "python3"
  },
  "language_info": {
   "codemirror_mode": {
    "name": "ipython",
    "version": 3
   },
   "file_extension": ".py",
   "mimetype": "text/x-python",
   "name": "python",
   "nbconvert_exporter": "python",
   "pygments_lexer": "ipython3",
   "version": "3.7.16"
  }
 },
 "nbformat": 4,
 "nbformat_minor": 5
}
